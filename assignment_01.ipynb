{
 "cells": [
  {
   "cell_type": "code",
   "execution_count": 1,
   "metadata": {},
   "outputs": [],
   "source": [
    "# # Configuration for JupyterLab\n",
    "# %config IPCompleter.greedy=True\n",
    "\n",
    "# Importing Required Libraries\n",
    "import pandas as pd\n",
    "import numpy as np\n",
    "import seaborn as sns\n",
    "import matplotlib.pyplot as plt\n",
    "from sklearn.model_selection import train_test_split\n",
    "from imblearn.over_sampling import SMOTE\n",
    "from sklearn.feature_selection import RFE\n",
    "from sklearn.linear_model import LogisticRegression\n",
    "from sklearn.metrics import classification_report\n",
    "from sklearn.metrics import confusion_matrix\n",
    "from sklearn.neural_network import MLPClassifier\n",
    "from sklearn import svm\n",
    "from sklearn import tree\n",
    "from sklearn.neighbors import NearestCentroid\n",
    "from sklearn.naive_bayes import GaussianNB\n",
    "\n",
    "#Ignore Convergence warnings\n",
    "from warnings import filterwarnings\n",
    "filterwarnings('ignore')"
   ]
  },
  {
   "cell_type": "code",
   "execution_count": 2,
   "metadata": {},
   "outputs": [
    {
     "name": "stdout",
     "output_type": "stream",
     "text": [
      "<bound method NDFrame.head of           id  age  capital_gain  capital_loss  hours_week  over_50k  \\\n",
      "0          1   39          2174             0          40         0   \n",
      "1          2   50             0             0          13         0   \n",
      "2          3   38             0             0          40         0   \n",
      "3          4   53             0             0          40         0   \n",
      "4          5   28             0             0          40         0   \n",
      "5          6   37             0             0          40         0   \n",
      "6          7   49             0             0          16         0   \n",
      "7          8   52             0             0          45         1   \n",
      "8          9   31         14084             0          50         1   \n",
      "9         10   42          5178             0          40         1   \n",
      "10        11   37             0             0          80         1   \n",
      "11        12   30             0             0          40         1   \n",
      "12        13   23             0             0          30         0   \n",
      "13        14   32             0             0          50         0   \n",
      "14        15   40             0             0          40         1   \n",
      "15        16   34             0             0          45         0   \n",
      "16        17   25             0             0          35         0   \n",
      "17        18   32             0             0          40         0   \n",
      "18        19   38             0             0          50         0   \n",
      "19        20   43             0             0          45         1   \n",
      "20        21   40             0             0          60         1   \n",
      "21        22   54             0             0          20         0   \n",
      "22        23   35             0             0          40         0   \n",
      "23        24   43             0          2042          40         0   \n",
      "24        25   59             0             0          40         0   \n",
      "25        26   56             0             0          40         1   \n",
      "26        27   19             0             0          40         0   \n",
      "27        28   54             0             0          60         1   \n",
      "28        29   39             0             0          80         0   \n",
      "29        30   49             0             0          40         0   \n",
      "...      ...  ...           ...           ...         ...       ...   \n",
      "48812  48813   81          2936             0          20         0   \n",
      "48813  48814   60          7688             0          40         1   \n",
      "48814  48815   39             0          1669          40         0   \n",
      "48815  48816   38             0             0          50         1   \n",
      "48816  48817   43             0          1902          50         1   \n",
      "48817  48818   23             0             0          40         0   \n",
      "48818  48819   73             0             0          40         0   \n",
      "48819  48820   35             0             0          40         0   \n",
      "48820  48821   66             0             0           8         0   \n",
      "48821  48822   27             0             0          45         0   \n",
      "48822  48823   40         15024             0          55         1   \n",
      "48823  48824   51             0             0          40         0   \n",
      "48824  48825   22             0             0          40         0   \n",
      "48825  48826   64             0             0          32         0   \n",
      "48826  48827   50             0             0          40         1   \n",
      "48827  48828   55             0             0          32         0   \n",
      "48828  48829   38             0             0          40         0   \n",
      "48829  48830   58             0             0          36         0   \n",
      "48830  48831   32             0             0          40         0   \n",
      "48831  48832   48             0             0          40         0   \n",
      "48832  48833   61             0             0          48         0   \n",
      "48833  48834   31             0             0          40         0   \n",
      "48834  48835   25             0             0          40         0   \n",
      "48835  48836   48             0             0          40         0   \n",
      "48836  48837   33             0             0          40         0   \n",
      "48837  48838   39             0             0          36         0   \n",
      "48838  48839   64             0             0          40         0   \n",
      "48839  48840   38             0             0          50         0   \n",
      "48840  48841   44          5455             0          40         0   \n",
      "48841  48842   35             0             0          60         1   \n",
      "\n",
      "             country education_level         marital_status  \\\n",
      "0      United-States       Bachelors          Never-married   \n",
      "1      United-States       Bachelors     Married-civ-spouse   \n",
      "2      United-States         HS-grad               Divorced   \n",
      "3      United-States            11th     Married-civ-spouse   \n",
      "4               Cuba       Bachelors     Married-civ-spouse   \n",
      "5      United-States         Masters     Married-civ-spouse   \n",
      "6            Jamaica             9th  Married-spouse-absent   \n",
      "7      United-States         HS-grad     Married-civ-spouse   \n",
      "8      United-States         Masters          Never-married   \n",
      "9      United-States       Bachelors     Married-civ-spouse   \n",
      "10     United-States    Some-college     Married-civ-spouse   \n",
      "11             India       Bachelors     Married-civ-spouse   \n",
      "12     United-States       Bachelors          Never-married   \n",
      "13     United-States      Assoc-acdm          Never-married   \n",
      "14                 ?       Assoc-voc     Married-civ-spouse   \n",
      "15            Mexico         7th-8th     Married-civ-spouse   \n",
      "16     United-States         HS-grad          Never-married   \n",
      "17     United-States         HS-grad          Never-married   \n",
      "18     United-States            11th     Married-civ-spouse   \n",
      "19     United-States         Masters               Divorced   \n",
      "20     United-States       Doctorate     Married-civ-spouse   \n",
      "21     United-States         HS-grad              Separated   \n",
      "22     United-States             9th     Married-civ-spouse   \n",
      "23     United-States            11th     Married-civ-spouse   \n",
      "24     United-States         HS-grad               Divorced   \n",
      "25     United-States       Bachelors     Married-civ-spouse   \n",
      "26     United-States         HS-grad          Never-married   \n",
      "27             South    Some-college     Married-civ-spouse   \n",
      "28     United-States         HS-grad               Divorced   \n",
      "29     United-States         HS-grad     Married-civ-spouse   \n",
      "...              ...             ...                    ...   \n",
      "48812  United-States       Assoc-voc     Married-civ-spouse   \n",
      "48813  United-States       Assoc-voc     Married-civ-spouse   \n",
      "48814  United-States       Bachelors          Never-married   \n",
      "48815  United-States         Masters     Married-civ-spouse   \n",
      "48816  United-States         Masters     Married-civ-spouse   \n",
      "48817  United-States         HS-grad          Never-married   \n",
      "48818  United-States    Some-college               Divorced   \n",
      "48819  United-States    Some-college     Married-civ-spouse   \n",
      "48820  United-States         HS-grad                Widowed   \n",
      "48821  United-States    Some-college          Never-married   \n",
      "48822  United-States     Prof-school     Married-civ-spouse   \n",
      "48823  United-States         HS-grad     Married-civ-spouse   \n",
      "48824  United-States    Some-college          Never-married   \n",
      "48825  United-States         HS-grad                Widowed   \n",
      "48826              ?         Masters     Married-civ-spouse   \n",
      "48827  United-States         HS-grad              Separated   \n",
      "48828  United-States       Assoc-voc          Never-married   \n",
      "48829  United-States      Assoc-acdm               Divorced   \n",
      "48830  United-States         HS-grad     Married-civ-spouse   \n",
      "48831  United-States         HS-grad     Married-civ-spouse   \n",
      "48832  United-States         HS-grad     Married-civ-spouse   \n",
      "48833  United-States         HS-grad     Married-civ-spouse   \n",
      "48834  United-States         HS-grad          Never-married   \n",
      "48835  United-States         Masters               Divorced   \n",
      "48836  United-States       Bachelors          Never-married   \n",
      "48837  United-States       Bachelors               Divorced   \n",
      "48838  United-States         HS-grad                Widowed   \n",
      "48839  United-States       Bachelors     Married-civ-spouse   \n",
      "48840  United-States       Bachelors               Divorced   \n",
      "48841  United-States       Bachelors     Married-civ-spouse   \n",
      "\n",
      "              occupation                race relationship_status     sex  \n",
      "0           Adm-clerical               White       Not-in-family    Male  \n",
      "1        Exec-managerial               White             Husband    Male  \n",
      "2      Handlers-cleaners               White       Not-in-family    Male  \n",
      "3      Handlers-cleaners               Black             Husband    Male  \n",
      "4         Prof-specialty               Black                Wife  Female  \n",
      "5        Exec-managerial               White                Wife  Female  \n",
      "6          Other-service               Black       Not-in-family  Female  \n",
      "7        Exec-managerial               White             Husband    Male  \n",
      "8         Prof-specialty               White       Not-in-family  Female  \n",
      "9        Exec-managerial               White             Husband    Male  \n",
      "10       Exec-managerial               Black             Husband    Male  \n",
      "11        Prof-specialty  Asian-Pac-Islander             Husband    Male  \n",
      "12          Adm-clerical               White           Own-child  Female  \n",
      "13                 Sales               Black       Not-in-family    Male  \n",
      "14          Craft-repair  Asian-Pac-Islander             Husband    Male  \n",
      "15      Transport-moving  Amer-Indian-Eskimo             Husband    Male  \n",
      "16       Farming-fishing               White           Own-child    Male  \n",
      "17     Machine-op-inspct               White           Unmarried    Male  \n",
      "18                 Sales               White             Husband    Male  \n",
      "19       Exec-managerial               White           Unmarried  Female  \n",
      "20        Prof-specialty               White             Husband    Male  \n",
      "21         Other-service               Black           Unmarried  Female  \n",
      "22       Farming-fishing               Black             Husband    Male  \n",
      "23      Transport-moving               White             Husband    Male  \n",
      "24          Tech-support               White           Unmarried  Female  \n",
      "25          Tech-support               White             Husband    Male  \n",
      "26          Craft-repair               White           Own-child    Male  \n",
      "27                     ?  Asian-Pac-Islander             Husband    Male  \n",
      "28       Exec-managerial               White       Not-in-family    Male  \n",
      "29          Craft-repair               White             Husband    Male  \n",
      "...                  ...                 ...                 ...     ...  \n",
      "48812                  ?               White             Husband    Male  \n",
      "48813     Prof-specialty               White             Husband    Male  \n",
      "48814       Tech-support               White       Not-in-family  Female  \n",
      "48815     Prof-specialty               White             Husband    Male  \n",
      "48816    Exec-managerial               White             Husband    Male  \n",
      "48817  Machine-op-inspct               White           Own-child    Male  \n",
      "48818    Exec-managerial               White       Not-in-family  Female  \n",
      "48819    Protective-serv               White             Husband    Male  \n",
      "48820              Sales               White      Other-relative  Female  \n",
      "48821              Sales               White       Not-in-family  Female  \n",
      "48822     Prof-specialty               White             Husband    Male  \n",
      "48823       Craft-repair               White             Husband    Male  \n",
      "48824       Craft-repair               White           Own-child    Male  \n",
      "48825    Farming-fishing               White       Not-in-family    Male  \n",
      "48826     Prof-specialty               White                Wife  Female  \n",
      "48827    Priv-house-serv               White       Not-in-family  Female  \n",
      "48828       Adm-clerical               Black           Unmarried  Female  \n",
      "48829     Prof-specialty               White       Not-in-family    Male  \n",
      "48830  Handlers-cleaners               White             Husband    Male  \n",
      "48831       Adm-clerical               White             Husband    Male  \n",
      "48832              Sales               White             Husband    Male  \n",
      "48833       Craft-repair               White             Husband    Male  \n",
      "48834      Other-service               White           Own-child  Female  \n",
      "48835      Other-service               White       Not-in-family    Male  \n",
      "48836     Prof-specialty               White           Own-child    Male  \n",
      "48837     Prof-specialty               White       Not-in-family  Female  \n",
      "48838                  ?               Black      Other-relative    Male  \n",
      "48839     Prof-specialty               White             Husband    Male  \n",
      "48840       Adm-clerical  Asian-Pac-Islander           Own-child    Male  \n",
      "48841    Exec-managerial               White             Husband    Male  \n",
      "\n",
      "[48842 rows x 13 columns]>\n"
     ]
    }
   ],
   "source": [
    "# Convert the csv to a dataframe\n",
    "data = pd.read_csv('results.csv', encoding='ISO-8859-1', delimiter=';')\n",
    "print(data.head)"
   ]
  },
  {
   "cell_type": "code",
   "execution_count": 3,
   "metadata": {},
   "outputs": [
    {
     "name": "stdout",
     "output_type": "stream",
     "text": [
      "                 id           age  capital_gain  capital_loss    hours_week  \\\n",
      "count  48842.000000  48842.000000  48842.000000  48842.000000  48842.000000   \n",
      "mean   24421.500000     38.643585   1079.067626     87.502314     40.422382   \n",
      "std    14099.615261     13.710510   7452.019058    403.004552     12.391444   \n",
      "min        1.000000     17.000000      0.000000      0.000000      1.000000   \n",
      "25%    12211.250000     28.000000      0.000000      0.000000     40.000000   \n",
      "50%    24421.500000     37.000000      0.000000      0.000000     40.000000   \n",
      "75%    36631.750000     48.000000      0.000000      0.000000     45.000000   \n",
      "max    48842.000000     90.000000  99999.000000   4356.000000     99.000000   \n",
      "\n",
      "           over_50k  \n",
      "count  48842.000000  \n",
      "mean       0.239282  \n",
      "std        0.426649  \n",
      "min        0.000000  \n",
      "25%        0.000000  \n",
      "50%        0.000000  \n",
      "75%        0.000000  \n",
      "max        1.000000  \n"
     ]
    }
   ],
   "source": [
    "#Numerical Data Analysis\n",
    "print(data.describe())"
   ]
  },
  {
   "cell_type": "code",
   "execution_count": 4,
   "metadata": {},
   "outputs": [
    {
     "name": "stdout",
     "output_type": "stream",
     "text": [
      "0    0.760718\n",
      "1    0.239282\n",
      "Name: over_50k, dtype: float64\n",
      "United-States                 0.897424\n",
      "Mexico                        0.019471\n",
      "?                             0.017546\n",
      "Philippines                   0.006040\n",
      "Germany                       0.004218\n",
      "Puerto-Rico                   0.003767\n",
      "Canada                        0.003726\n",
      "El-Salvador                   0.003173\n",
      "India                         0.003092\n",
      "Cuba                          0.002825\n",
      "England                       0.002600\n",
      "China                         0.002498\n",
      "South                         0.002355\n",
      "Jamaica                       0.002170\n",
      "Italy                         0.002150\n",
      "Dominican-Republic            0.002109\n",
      "Japan                         0.001884\n",
      "Guatemala                     0.001802\n",
      "Poland                        0.001781\n",
      "Vietnam                       0.001761\n",
      "Columbia                      0.001740\n",
      "Haiti                         0.001536\n",
      "Portugal                      0.001372\n",
      "Taiwan                        0.001331\n",
      "Iran                          0.001208\n",
      "Nicaragua                     0.001003\n",
      "Greece                        0.001003\n",
      "Peru                          0.000942\n",
      "Ecuador                       0.000921\n",
      "France                        0.000778\n",
      "Ireland                       0.000758\n",
      "Hong                          0.000614\n",
      "Thailand                      0.000614\n",
      "Cambodia                      0.000573\n",
      "Trinadad&Tobago               0.000553\n",
      "Yugoslavia                    0.000471\n",
      "Outlying-US(Guam-USVI-etc)    0.000471\n",
      "Laos                          0.000471\n",
      "Scotland                      0.000430\n",
      "Honduras                      0.000409\n",
      "Hungary                       0.000389\n",
      "Holand-Netherlands            0.000020\n",
      "Name: country, dtype: float64\n",
      "HS-grad         0.323164\n",
      "Some-college    0.222718\n",
      "Bachelors       0.164305\n",
      "Masters         0.054400\n",
      "Assoc-voc       0.042197\n",
      "11th            0.037099\n",
      "Assoc-acdm      0.032779\n",
      "10th            0.028439\n",
      "7th-8th         0.019553\n",
      "Prof-school     0.017075\n",
      "9th             0.015478\n",
      "12th            0.013452\n",
      "Doctorate       0.012162\n",
      "5th-6th         0.010421\n",
      "1st-4th         0.005057\n",
      "Preschool       0.001699\n",
      "Name: education_level, dtype: float64\n",
      "Married-civ-spouse       0.458192\n",
      "Never-married            0.329982\n",
      "Divorced                 0.135805\n",
      "Separated                0.031325\n",
      "Widowed                  0.031080\n",
      "Married-spouse-absent    0.012858\n",
      "Married-AF-spouse        0.000758\n",
      "Name: marital_status, dtype: float64\n",
      "Prof-specialty       0.126367\n",
      "Craft-repair         0.125138\n",
      "Exec-managerial      0.124606\n",
      "Adm-clerical         0.114881\n",
      "Sales                0.112690\n",
      "Other-service        0.100794\n",
      "Machine-op-inspct    0.061873\n",
      "?                    0.057512\n",
      "Transport-moving     0.048217\n",
      "Handlers-cleaners    0.042423\n",
      "Farming-fishing      0.030507\n",
      "Tech-support         0.029606\n",
      "Protective-serv      0.020126\n",
      "Priv-house-serv      0.004955\n",
      "Armed-Forces         0.000307\n",
      "Name: occupation, dtype: float64\n",
      "White                 0.855043\n",
      "Black                 0.095922\n",
      "Asian-Pac-Islander    0.031100\n",
      "Amer-Indian-Eskimo    0.009623\n",
      "Other                 0.008313\n",
      "Name: race, dtype: float64\n",
      "Husband           0.403669\n",
      "Not-in-family     0.257627\n",
      "Own-child         0.155215\n",
      "Unmarried         0.104930\n",
      "Wife              0.047725\n",
      "Other-relative    0.030834\n",
      "Name: relationship_status, dtype: float64\n",
      "Male      0.668482\n",
      "Female    0.331518\n",
      "Name: sex, dtype: float64\n"
     ]
    }
   ],
   "source": [
    "#Categorical Data Analysis\n",
    "print(data['over_50k'].value_counts(normalize=True))\n",
    "print(data['country'].value_counts(normalize=True))\n",
    "print(data['education_level'].value_counts(normalize=True))\n",
    "print(data['marital_status'].value_counts(normalize=True))\n",
    "print(data['occupation'].value_counts(normalize=True))\n",
    "print(data['race'].value_counts(normalize=True))\n",
    "print(data['relationship_status'].value_counts(normalize=True))\n",
    "print(data['sex'].value_counts(normalize=True))"
   ]
  },
  {
   "cell_type": "code",
   "execution_count": 5,
   "metadata": {},
   "outputs": [],
   "source": [
    "#Fix issues with United-States not converting properly\n",
    "# data['country'] = data['country'].replace('United-States', 'US')"
   ]
  },
  {
   "cell_type": "code",
   "execution_count": 6,
   "metadata": {},
   "outputs": [
    {
     "data": {
      "image/png": "[encoded data removed]",
      "text/plain": [
       "<Figure size 360x360 with 1 Axes>"
      ]
     },
     "metadata": {},
     "output_type": "display_data"
    }
   ],
   "source": [
    "#Plot graph between occupation and over_50k\n",
    "sns.set(style=\"ticks\", color_codes=True)\n",
    "sns.catplot(y=\"occupation\", x=\"over_50k\", data=data, kind=\"bar\");"
   ]
  },
  {
   "cell_type": "code",
   "execution_count": 7,
   "metadata": {},
   "outputs": [],
   "source": [
    "#Create dummy variables for categorical values\n",
    "cat_vars=['country','education_level','marital_status','occupation','race','relationship_status','sex']\n",
    "for var in cat_vars:\n",
    "    cat_list='var' +'_' + var\n",
    "    cat_list = pd.get_dummies(data[var], prefix=var)\n",
    "    data=data.join(cat_list)\n",
    "data_vars=data.columns.values.tolist()\n",
    "to_keep=[i for i in data_vars if i not in cat_vars]\n",
    "data = data[to_keep]"
   ]
  },
  {
   "cell_type": "code",
   "execution_count": 8,
   "metadata": {},
   "outputs": [
    {
     "data": {
      "image/png": "[encoded data removed]",
      "text/plain": [
       "<Figure size 288x288 with 1 Axes>"
      ]
     },
     "metadata": {},
     "output_type": "display_data"
    }
   ],
   "source": [
    "#Create a corrolation matrix\n",
    "corrMatrix = data.corr()\n",
    "plt.matshow(data.corr())\n",
    "plt.show()"
   ]
  },
  {
   "cell_type": "code",
   "execution_count": 10,
   "metadata": {},
   "outputs": [],
   "source": [
    "#Create testing/training split\n",
    "os = SMOTE(random_state=0)\n",
    "X = data.loc[:, data.columns != 'over_50k']\n",
    "y = data.loc[:, data.columns == 'over_50k']\n",
    "X_train, X_test, y_train, y_test = train_test_split(X, y, test_size=0.25, random_state=0, shuffle=True)"
   ]
  },
  {
   "cell_type": "code",
   "execution_count": 11,
   "metadata": {},
   "outputs": [],
   "source": [
    "# #Scale the data\n",
    "# scaler = StandardScaler()\n",
    "# scaler.fit(X_train)\n",
    "# X_train = scaler.transform(X_train) \n",
    "# X_test = scaler.transform(X_test)\n",
    "# X_train"
   ]
  },
  {
   "cell_type": "code",
   "execution_count": 12,
   "metadata": {},
   "outputs": [],
   "source": [
    "#Over-sample using smote to make up for differences in classes\n",
    "smote_X, smote_y = os.fit_sample(X_train, y_train)\n",
    "smote_X = pd.DataFrame(data=smote_X,columns=X_train.columns)\n",
    "smote_y = pd.DataFrame(data=smote_y,columns=['over_50k'])"
   ]
  },
  {
   "cell_type": "code",
   "execution_count": 13,
   "metadata": {},
   "outputs": [],
   "source": [
    "#Determine which features to use\n",
    "logreg = LogisticRegression(max_iter=2000)\n",
    "# rfe = RFE(logreg, 20)\n",
    "# rfe = rfe.fit(smote_X, smote_y.values.ravel())\n",
    "# print(rfe.support_)\n",
    "# print(rfe.ranking_)"
   ]
  },
  {
   "cell_type": "code",
   "execution_count": 14,
   "metadata": {},
   "outputs": [
    {
     "name": "stdout",
     "output_type": "stream",
     "text": [
      "[False False False False False False False False False False False False\n",
      " False False False False False False False False False False False False\n",
      " False False False False False False False False False False False False\n",
      " False False False False False False False False False False False False\n",
      " False False False False False False False False False False False False\n",
      " False False False False False False False False False False  True False\n",
      " False False False  True  True False  True  True False False False False\n",
      " False False False False False False False False False False False False\n",
      " False False]\n",
      "[94 88 93 92 86 69 50 89 54 30 77 51 55 58 91 79 75 84 49 76 90 80 61 87\n",
      " 65 74 57 60 73 68 64 42 63 66 52 81 72 85 59 48 53 67 71 70 78 56 62 31\n",
      " 28 32 24 29 26 27 36 35 37 39 33 38 25 40 34 21 82 83 22 19 20 23  1  3\n",
      " 11  5 10  1  1  2  1  1  9  8  7  6  4 14 17 16 15 18 44 46 43 41 45 47\n",
      " 12 13]\n"
     ]
    }
   ],
   "source": [
    "#Determine top 5 features\n",
    "rfe_5 = RFE(logreg, 5)\n",
    "rfe_5 = rfe_5.fit(smote_X, smote_y.values.ravel())\n",
    "print(rfe_5.support_)\n",
    "print(rfe_5.ranking_)"
   ]
  },
  {
   "cell_type": "code",
   "execution_count": 15,
   "metadata": {},
   "outputs": [],
   "source": [
    "#Save selected features\n",
    "def select_features(rfe):\n",
    "    potential_features = rfe.support_\n",
    "    cols = X_train.columns\n",
    "    selected = []\n",
    "    for i in range(potential_features.size):\n",
    "        if potential_features[i] == True:\n",
    "            selected.append(cols[i])\n",
    "    return selected\n",
    "\n",
    "# selected = select_features(rfe)\n",
    "selected = select_features(rfe_5)\n",
    "top_5 = select_features(rfe_5)\n",
    "select_smote_X = smote_X[selected]\n",
    "select_smote_y = smote_y\n",
    "# select_smote_X"
   ]
  },
  {
   "cell_type": "code",
   "execution_count": 16,
   "metadata": {},
   "outputs": [],
   "source": [
    "# #Plot the most important relationships\n",
    "# for i in top_5:\n",
    "# #     data.plot(y=i, x='over_50k', style='o')\n",
    "# #     data.plot(y=i, x='over_50k', style='o',kind='bar')\n",
    "# #     data.plot(y=i, x='over_50k', style='o',kind='line')\n",
    "# #     data.plot(y=i, x='over_50k', style='o',kind='pie')\n",
    "# # data.plot(x=\"over_50k\", y=top_5, kind=\"bar\")"
   ]
  },
  {
   "cell_type": "code",
   "execution_count": 17,
   "metadata": {},
   "outputs": [
    {
     "name": "stdout",
     "output_type": "stream",
     "text": [
      "Accuracy of Logistic Regression on all featutres: 0.80\n",
      "[[7882 1474]\n",
      " [ 922 1933]]\n",
      "              precision    recall  f1-score   support\n",
      "\n",
      "           0       0.90      0.84      0.87      9356\n",
      "           1       0.57      0.68      0.62      2855\n",
      "\n",
      "    accuracy                           0.80     12211\n",
      "   macro avg       0.73      0.76      0.74     12211\n",
      "weighted avg       0.82      0.80      0.81     12211\n",
      "\n"
     ]
    }
   ],
   "source": [
    "#Train Logistic Regression and test on all features\n",
    "logreg_all = LogisticRegression(max_iter=2000)\n",
    "logreg_all.fit(smote_X, smote_y['over_50k'])\n",
    "y_pred = logreg_all.predict(X_test)\n",
    "print('Accuracy of Logistic Regression on all featutres: {:.2f}'.format(logreg_all.score(X_test, y_test)))\n",
    "confusion_matrix = confusion_matrix(y_test, y_pred)\n",
    "print(confusion_matrix)\n",
    "print(classification_report(y_test, y_pred))"
   ]
  },
  {
   "cell_type": "code",
   "execution_count": 18,
   "metadata": {},
   "outputs": [
    {
     "name": "stdout",
     "output_type": "stream",
     "text": [
      "Accuracy of Logistic Regression on select featutres: 0.80\n",
      "              precision    recall  f1-score   support\n",
      "\n",
      "           0       0.90      0.84      0.87      9356\n",
      "           1       0.57      0.68      0.62      2855\n",
      "\n",
      "    accuracy                           0.80     12211\n",
      "   macro avg       0.73      0.76      0.74     12211\n",
      "weighted avg       0.82      0.80      0.81     12211\n",
      "\n"
     ]
    }
   ],
   "source": [
    "#Train Logistic Regression and test on selected features\n",
    "logreg_select = LogisticRegression(max_iter=2000)\n",
    "logreg_select.fit(smote_X, smote_y['over_50k'])\n",
    "y_pred = logreg_select.predict(X_test)\n",
    "print('Accuracy of Logistic Regression on select featutres: {:.2f}'.format(logreg_select.score(X_test, y_test)))\n",
    "# confusion_matrix_select = confusion_matrix(y_test, y_pred)\n",
    "# print(confusion_matrix_select)\n",
    "print(classification_report(y_test, y_pred))"
   ]
  },
  {
   "cell_type": "code",
   "execution_count": 19,
   "metadata": {},
   "outputs": [
    {
     "name": "stdout",
     "output_type": "stream",
     "text": [
      "Accuracy of Multi-layer Perceptron on all featutres: 0.77\n",
      "              precision    recall  f1-score   support\n",
      "\n",
      "           0       0.77      1.00      0.87      9356\n",
      "           1       0.00      0.00      0.00      2855\n",
      "\n",
      "    accuracy                           0.77     12211\n",
      "   macro avg       0.38      0.50      0.43     12211\n",
      "weighted avg       0.59      0.77      0.66     12211\n",
      "\n"
     ]
    }
   ],
   "source": [
    "#Train Multi-layer Perceptron and test on all features\n",
    "clf_all = MLPClassifier(solver='lbfgs', alpha=1e-5,\n",
    "                    hidden_layer_sizes=(5, 2), random_state=0)\n",
    "clf_all.fit(smote_X, smote_y['over_50k'])\n",
    "y_pred = clf_all.predict(X_test)\n",
    "print('Accuracy of Multi-layer Perceptron on all featutres: {:.2f}'.format(clf_all.score(X_test, y_test)))\n",
    "# cm_1 = confusion_matrix(y_test, y_pred)\n",
    "# print(cm_1)\n",
    "print(classification_report(y_test, y_pred))"
   ]
  },
  {
   "cell_type": "code",
   "execution_count": 20,
   "metadata": {},
   "outputs": [
    {
     "name": "stdout",
     "output_type": "stream",
     "text": [
      "Accuracy of Multi-layer Perceptron on select featutres: 0.77\n",
      "              precision    recall  f1-score   support\n",
      "\n",
      "           0       0.77      1.00      0.87      9356\n",
      "           1       0.00      0.00      0.00      2855\n",
      "\n",
      "    accuracy                           0.77     12211\n",
      "   macro avg       0.38      0.50      0.43     12211\n",
      "weighted avg       0.59      0.77      0.66     12211\n",
      "\n"
     ]
    }
   ],
   "source": [
    "#Train Multi-layer Perceptron and test on selected features\n",
    "clf_select = MLPClassifier(solver='lbfgs', alpha=1e-5,\n",
    "                    hidden_layer_sizes=(5, 2), random_state=0)\n",
    "clf_select.fit(smote_X, smote_y['over_50k'])\n",
    "y_pred = clf_select.predict(X_test)\n",
    "print('Accuracy of Multi-layer Perceptron on select featutres: {:.2f}'.format(clf_select.score(X_test, y_test)))\n",
    "# cm_2 = confusion_matrix(y_test, y_pred)\n",
    "# print(cm_2)\n",
    "print(classification_report(y_test, y_pred))"
   ]
  },
  {
   "cell_type": "code",
   "execution_count": 21,
   "metadata": {},
   "outputs": [
    {
     "name": "stdout",
     "output_type": "stream",
     "text": [
      "Accuracy of Multi-layer Perceptron with 2 layers on all featutres: 0.23\n",
      "              precision    recall  f1-score   support\n",
      "\n",
      "           0       0.50      0.00      0.00      9356\n",
      "           1       0.23      1.00      0.38      2855\n",
      "\n",
      "    accuracy                           0.23     12211\n",
      "   macro avg       0.37      0.50      0.19     12211\n",
      "weighted avg       0.44      0.23      0.09     12211\n",
      "\n"
     ]
    }
   ],
   "source": [
    "#Train Multi-layer Perceptron with fewer layers\n",
    "clf_all = MLPClassifier(solver='lbfgs', alpha=1e-5,\n",
    "                    hidden_layer_sizes=(2, 2), random_state=0)\n",
    "clf_all.fit(smote_X, smote_y['over_50k'])\n",
    "y_pred = clf_all.predict(X_test)\n",
    "print('Accuracy of Multi-layer Perceptron with 2 layers on all featutres: {:.2f}'.format(clf_all.score(X_test, y_test)))\n",
    "# cm_3 = confusion_matrix(y_test, y_pred)\n",
    "# print(cm_3)\n",
    "print(classification_report(y_test, y_pred))"
   ]
  },
  {
   "cell_type": "code",
   "execution_count": 22,
   "metadata": {},
   "outputs": [
    {
     "name": "stdout",
     "output_type": "stream",
     "text": [
      "Accuracy of Multi-layer Perceptron on all featutres: 0.77\n",
      "              precision    recall  f1-score   support\n",
      "\n",
      "           0       0.77      1.00      0.87      9356\n",
      "           1       0.00      0.00      0.00      2855\n",
      "\n",
      "    accuracy                           0.77     12211\n",
      "   macro avg       0.38      0.50      0.43     12211\n",
      "weighted avg       0.59      0.77      0.66     12211\n",
      "\n"
     ]
    }
   ],
   "source": [
    "#Train Multi-layer Perceptron with more layers\n",
    "clf_all = MLPClassifier(solver='lbfgs', alpha=1e-5,\n",
    "                    hidden_layer_sizes=(10, 2), random_state=0)\n",
    "clf_all.fit(smote_X, smote_y['over_50k'])\n",
    "y_pred = clf_all.predict(X_test)\n",
    "print('Accuracy of Multi-layer Perceptron on all featutres: {:.2f}'.format(clf_all.score(X_test, y_test)))\n",
    "# cm_4 = confusion_matrix(y_test, y_pred)\n",
    "# print(cm_4)\n",
    "print(classification_report(y_test, y_pred))"
   ]
  },
  {
   "cell_type": "code",
   "execution_count": 23,
   "metadata": {},
   "outputs": [
    {
     "name": "stdout",
     "output_type": "stream",
     "text": [
      "Accuracy of Multi-layer Perceptron on all featutres: 0.77\n",
      "              precision    recall  f1-score   support\n",
      "\n",
      "           0       0.77      1.00      0.87      9356\n",
      "           1       0.00      0.00      0.00      2855\n",
      "\n",
      "    accuracy                           0.77     12211\n",
      "   macro avg       0.38      0.50      0.43     12211\n",
      "weighted avg       0.59      0.77      0.66     12211\n",
      "\n"
     ]
    }
   ],
   "source": [
    "#Train Multi-layer Perceptron with fewer layers\n",
    "clf_all = MLPClassifier(solver='lbfgs', alpha=1e-5,\n",
    "                    hidden_layer_sizes=(5, 5), random_state=0)\n",
    "clf_all.fit(smote_X, smote_y['over_50k'])\n",
    "y_pred = clf_all.predict(X_test)\n",
    "print('Accuracy of Multi-layer Perceptron on all featutres: {:.2f}'.format(clf_all.score(X_test, y_test)))\n",
    "# cm_3 = confusion_matrix(y_test, y_pred)\n",
    "# print(cm_3)\n",
    "print(classification_report(y_test, y_pred))"
   ]
  },
  {
   "cell_type": "code",
   "execution_count": 24,
   "metadata": {},
   "outputs": [],
   "source": [
    "#Train Support Vector Classifier and test on all features\n",
    "# clf_all = svm.SVC()\n",
    "# clf_all.fit(smote_X, smote_y['over_50k'])\n",
    "# y_pred = clf_all.predict(X_test)\n",
    "# print('Accuracy of Support Vector Classifier on all featutres: {:.2f}'.format(clf_all.score(X_test, y_test)))\n",
    "# # cm_5 = confusion_matrix(y_test, y_pred)\n",
    "# # print(cm_5)\n",
    "# print(classification_report(y_test, y_pred))"
   ]
  },
  {
   "cell_type": "code",
   "execution_count": 25,
   "metadata": {},
   "outputs": [],
   "source": [
    "#Train Support Vector Classifier and test on selected features\n",
    "# clf_select = svm.SVC()\n",
    "# clf_select.fit(smote_X, smote_y['over_50k'])\n",
    "# y_pred = clf_select.predict(X_test)\n",
    "# print('Accuracy of Support Vector Classifier on select featutres: {:.2f}'.format(clf_select.score(X_test, y_test)))\n",
    "# # cm_6 = confusion_matrix(y_test, y_pred)\n",
    "# # print(cm_6)\n",
    "# print(classification_report(y_test, y_pred))"
   ]
  },
  {
   "cell_type": "code",
   "execution_count": 26,
   "metadata": {},
   "outputs": [
    {
     "name": "stdout",
     "output_type": "stream",
     "text": [
      "Accuracy of Decision Tree on all featutres: 0.81\n",
      "              precision    recall  f1-score   support\n",
      "\n",
      "           0       0.88      0.87      0.87      9356\n",
      "           1       0.58      0.61      0.60      2855\n",
      "\n",
      "    accuracy                           0.81     12211\n",
      "   macro avg       0.73      0.74      0.73     12211\n",
      "weighted avg       0.81      0.81      0.81     12211\n",
      "\n"
     ]
    }
   ],
   "source": [
    "#Train Decision Tree and test on all features\n",
    "clf_all = tree.DecisionTreeClassifier()\n",
    "clf_all.fit(smote_X, smote_y['over_50k'])\n",
    "y_pred = clf_all.predict(X_test)\n",
    "print('Accuracy of Decision Tree on all featutres: {:.2f}'.format(clf_all.score(X_test, y_test)))\n",
    "# cm_5 = confusion_matrix(y_test, y_pred)\n",
    "# print(cm_5)\n",
    "print(classification_report(y_test, y_pred))"
   ]
  },
  {
   "cell_type": "code",
   "execution_count": 27,
   "metadata": {},
   "outputs": [
    {
     "name": "stdout",
     "output_type": "stream",
     "text": [
      "Accuracy of Decision Tree on select featutres: 0.81\n",
      "              precision    recall  f1-score   support\n",
      "\n",
      "           0       0.88      0.86      0.87      9356\n",
      "           1       0.58      0.62      0.60      2855\n",
      "\n",
      "    accuracy                           0.81     12211\n",
      "   macro avg       0.73      0.74      0.74     12211\n",
      "weighted avg       0.81      0.81      0.81     12211\n",
      "\n"
     ]
    }
   ],
   "source": [
    "#Train Decision Tree and test on selected features\n",
    "clf_select = tree.DecisionTreeClassifier()\n",
    "clf_select.fit(smote_X, smote_y['over_50k'])\n",
    "y_pred = clf_select.predict(X_test)\n",
    "print('Accuracy of Decision Tree on select featutres: {:.2f}'.format(clf_select.score(X_test, y_test)))\n",
    "# cm_6 = confusion_matrix(y_test, y_pred)\n",
    "# print(cm_6)\n",
    "print(classification_report(y_test, y_pred))"
   ]
  },
  {
   "cell_type": "code",
   "execution_count": 28,
   "metadata": {},
   "outputs": [
    {
     "name": "stdout",
     "output_type": "stream",
     "text": [
      "Accuracy of Nearest Centroid Classifier on all featutres: 0.79\n",
      "              precision    recall  f1-score   support\n",
      "\n",
      "           0       0.80      0.97      0.88      9356\n",
      "           1       0.67      0.22      0.33      2855\n",
      "\n",
      "    accuracy                           0.79     12211\n",
      "   macro avg       0.73      0.59      0.60     12211\n",
      "weighted avg       0.77      0.79      0.75     12211\n",
      "\n"
     ]
    }
   ],
   "source": [
    "#Train Nearest Centroid Classifier and test on all features\n",
    "clf_all = NearestCentroid()\n",
    "clf_all.fit(smote_X, smote_y['over_50k'])\n",
    "y_pred = clf_all.predict(X_test)\n",
    "print('Accuracy of Nearest Centroid Classifier on all featutres: {:.2f}'.format(clf_all.score(X_test, y_test)))\n",
    "# cm_5 = confusion_matrix(y_test, y_pred)\n",
    "# print(cm_5)\n",
    "print(classification_report(y_test, y_pred))"
   ]
  },
  {
   "cell_type": "code",
   "execution_count": 29,
   "metadata": {},
   "outputs": [
    {
     "name": "stdout",
     "output_type": "stream",
     "text": [
      "Accuracy of Nearest Centroid Classifier on select featutres: 0.79\n",
      "              precision    recall  f1-score   support\n",
      "\n",
      "           0       0.80      0.97      0.88      9356\n",
      "           1       0.67      0.22      0.33      2855\n",
      "\n",
      "    accuracy                           0.79     12211\n",
      "   macro avg       0.73      0.59      0.60     12211\n",
      "weighted avg       0.77      0.79      0.75     12211\n",
      "\n"
     ]
    }
   ],
   "source": [
    "#Train Nearest Centroid Classifier and test on selected features\n",
    "clf_select = NearestCentroid()\n",
    "clf_select.fit(smote_X, smote_y['over_50k'])\n",
    "y_pred = clf_select.predict(X_test)\n",
    "print('Accuracy of Nearest Centroid Classifier on select featutres: {:.2f}'.format(clf_select.score(X_test, y_test)))\n",
    "# cm_6 = confusion_matrix(y_test, y_pred)\n",
    "# print(cm_6)\n",
    "print(classification_report(y_test, y_pred))"
   ]
  },
  {
   "cell_type": "code",
   "execution_count": 30,
   "metadata": {},
   "outputs": [
    {
     "name": "stdout",
     "output_type": "stream",
     "text": [
      "Accuracy of Naive Bayes Classifier on all featutres: 0.74\n",
      "              precision    recall  f1-score   support\n",
      "\n",
      "           0       0.94      0.71      0.81      9356\n",
      "           1       0.47      0.85      0.61      2855\n",
      "\n",
      "    accuracy                           0.74     12211\n",
      "   macro avg       0.71      0.78      0.71     12211\n",
      "weighted avg       0.83      0.74      0.76     12211\n",
      "\n"
     ]
    }
   ],
   "source": [
    "#Train Naive Bayes Classifier and test on all features\n",
    "clf_all = GaussianNB()\n",
    "clf_all.fit(smote_X, smote_y['over_50k'])\n",
    "y_pred = clf_all.predict(X_test)\n",
    "print('Accuracy of Naive Bayes Classifier on all featutres: {:.2f}'.format(clf_all.score(X_test, y_test)))\n",
    "# cm_7 = confusion_matrix(y_test, y_pred)\n",
    "# print(cm_7)\n",
    "print(classification_report(y_test, y_pred))"
   ]
  },
  {
   "cell_type": "code",
   "execution_count": 31,
   "metadata": {},
   "outputs": [
    {
     "name": "stdout",
     "output_type": "stream",
     "text": [
      "Accuracy of Naive Bayes Classifier on select featutres: 0.74\n",
      "              precision    recall  f1-score   support\n",
      "\n",
      "           0       0.94      0.71      0.81      9356\n",
      "           1       0.47      0.85      0.61      2855\n",
      "\n",
      "    accuracy                           0.74     12211\n",
      "   macro avg       0.71      0.78      0.71     12211\n",
      "weighted avg       0.83      0.74      0.76     12211\n",
      "\n"
     ]
    }
   ],
   "source": [
    "#Train Naive Bayes Classifier and test on selected features\n",
    "clf_select = GaussianNB()\n",
    "clf_select.fit(smote_X, smote_y['over_50k'])\n",
    "y_pred = clf_select.predict(X_test)\n",
    "print('Accuracy of Naive Bayes Classifier on select featutres: {:.2f}'.format(clf_select.score(X_test, y_test)))\n",
    "# cm_8 = confusion_matrix(y_test, y_pred)\n",
    "# print(cm_8)\n",
    "print(classification_report(y_test, y_pred))"
   ]
  },
  {
   "cell_type": "code",
   "execution_count": null,
   "metadata": {},
   "outputs": [],
   "source": []
  },
  {
   "cell_type": "code",
   "execution_count": null,
   "metadata": {},
   "outputs": [],
   "source": []
  }
 ],
 "metadata": {
  "kernelspec": {
   "display_name": "Python 3",
   "language": "python",
   "name": "python3"
  },
  "language_info": {
   "codemirror_mode": {
    "name": "ipython",
    "version": 3
   },
   "file_extension": ".py",
   "mimetype": "text/x-python",
   "name": "python",
   "nbconvert_exporter": "python",
   "pygments_lexer": "ipython3",
   "version": "3.7.1"
  }
 },
 "nbformat": 4,
 "nbformat_minor": 2
}
